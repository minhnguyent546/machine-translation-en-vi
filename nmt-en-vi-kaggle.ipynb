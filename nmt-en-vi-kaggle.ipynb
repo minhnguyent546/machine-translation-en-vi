{
 "cells": [
  {
   "cell_type": "markdown",
   "metadata": {
    "id": "7uJAThSdC36d"
   },
   "source": [
    "# Fetching codes"
   ]
  },
  {
   "cell_type": "code",
   "execution_count": null,
   "metadata": {
    "id": "oQNwUYCwC189"
   },
   "outputs": [],
   "source": [
    "!git clone https://github.com/minhnguyent546/nmt-en-vi.git"
   ]
  },
  {
   "cell_type": "code",
   "execution_count": null,
   "metadata": {},
   "outputs": [],
   "source": [
    "%cd nmt-en-vi"
   ]
  },
  {
   "cell_type": "code",
   "execution_count": 3,
   "metadata": {
    "execution": {
     "iopub.execute_input": "2024-04-29T15:38:22.389788Z",
     "iopub.status.busy": "2024-04-29T15:38:22.388993Z",
     "iopub.status.idle": "2024-04-29T15:38:39.372547Z",
     "shell.execute_reply": "2024-04-29T15:38:39.371278Z",
     "shell.execute_reply.started": "2024-04-29T15:38:22.389757Z"
    },
    "id": "RstFjRG87b8G"
   },
   "outputs": [],
   "source": [
    "!pip install -q datasets underthesea contractions"
   ]
  },
  {
   "cell_type": "markdown",
   "metadata": {
    "id": "dc1NvOOoEcQU"
   },
   "source": [
    "# Configuration"
   ]
  },
  {
   "cell_type": "code",
   "execution_count": 4,
   "metadata": {
    "execution": {
     "iopub.execute_input": "2024-04-29T15:38:39.375432Z",
     "iopub.status.busy": "2024-04-29T15:38:39.375038Z",
     "iopub.status.idle": "2024-04-29T15:38:39.420031Z",
     "shell.execute_reply": "2024-04-29T15:38:39.419310Z",
     "shell.execute_reply.started": "2024-04-29T15:38:39.375397Z"
    },
    "id": "QyiQPNTWDjUF"
   },
   "outputs": [],
   "source": [
    "from nmt.utils.config import get_config\n",
    "from pathlib import Path\n",
    "\n",
    "storage_dir = '/kaggle/working/storage'\n",
    "Path(storage_dir).mkdir(parents=True, exist_ok=True)\n",
    "\n",
    "config = get_config('./config/config.yaml')"
   ]
  },
  {
   "cell_type": "code",
   "execution_count": 5,
   "metadata": {
    "execution": {
     "iopub.execute_input": "2024-04-29T15:30:59.155303Z",
     "iopub.status.busy": "2024-04-29T15:30:59.155048Z",
     "iopub.status.idle": "2024-04-29T15:31:01.547979Z",
     "shell.execute_reply": "2024-04-29T15:31:01.546678Z",
     "shell.execute_reply.started": "2024-04-29T15:30:59.155280Z"
    }
   },
   "outputs": [],
   "source": [
    "!mkdir -p /kaggle/working/datasets/iwslt2015-en-vi\n",
    "!cp /kaggle/input/iwslt2015-en-vi/*.json /kaggle/working/datasets/iwslt2015-en-vi"
   ]
  },
  {
   "cell_type": "code",
   "execution_count": 5,
   "metadata": {
    "execution": {
     "iopub.execute_input": "2024-04-29T15:38:39.421612Z",
     "iopub.status.busy": "2024-04-29T15:38:39.421364Z",
     "iopub.status.idle": "2024-04-29T15:38:39.426997Z",
     "shell.execute_reply": "2024-04-29T15:38:39.426118Z",
     "shell.execute_reply.started": "2024-04-29T15:38:39.421590Z"
    }
   },
   "outputs": [],
   "source": [
    "config['checkpoints_dir'] = f'{storage_dir}/checkpoints'\n",
    "config['experiment_name'] = f'{storage_dir}/runs/nmt'\n",
    "config['dataset_save_path'] = f'{storage_dir}/datasets/iwslt2015-en-vi'\n",
    "config['num_epochs'] = 10\n",
    "\n",
    "dataset_dir = '/kaggle/working/datasets/iwslt2015-en-vi'\n",
    "config['data_files'] = {\n",
    "    'train': f'{dataset_dir}/train.json',\n",
    "    'test': f'{dataset_dir}/test.json',\n",
    "    'validation': f'{dataset_dir}/validation.json',\n",
    "}"
   ]
  },
  {
   "cell_type": "code",
   "execution_count": null,
   "metadata": {},
   "outputs": [],
   "source": [
    "config"
   ]
  },
  {
   "cell_type": "markdown",
   "metadata": {
    "id": "3C9-zN3BfHY9"
   },
   "source": [
    "# Preprocessing"
   ]
  },
  {
   "cell_type": "code",
   "execution_count": null,
   "metadata": {
    "id": "PTb2onZSfHY9"
   },
   "outputs": [],
   "source": [
    "from nmt.preprocess import preprocess\n",
    "preprocess(config)"
   ]
  },
  {
   "cell_type": "markdown",
   "metadata": {
    "id": "mAWq_d9P3I72"
   },
   "source": [
    "# Tensorboard"
   ]
  },
  {
   "cell_type": "code",
   "execution_count": null,
   "metadata": {
    "execution": {
     "iopub.execute_input": "2024-04-25T12:10:33.591036Z",
     "iopub.status.busy": "2024-04-25T12:10:33.590703Z",
     "iopub.status.idle": "2024-04-25T12:10:33.616309Z",
     "shell.execute_reply": "2024-04-25T12:10:33.615566Z",
     "shell.execute_reply.started": "2024-04-25T12:10:33.591006Z"
    },
    "id": "5_XOPFObfHY7"
   },
   "outputs": [],
   "source": [
    "%load_ext tensorboard"
   ]
  },
  {
   "cell_type": "code",
   "execution_count": null,
   "metadata": {
    "execution": {
     "iopub.execute_input": "2024-04-25T12:10:33.618046Z",
     "iopub.status.busy": "2024-04-25T12:10:33.617392Z",
     "iopub.status.idle": "2024-04-25T12:10:36.873740Z",
     "shell.execute_reply": "2024-04-25T12:10:36.870622Z",
     "shell.execute_reply.started": "2024-04-25T12:10:33.617997Z"
    },
    "id": "cBDr1gznfHY8"
   },
   "outputs": [],
   "source": [
    "! ! command -v ngrok &>/dev/null && \\\n",
    "        wget https://bin.equinox.io/c/bNyj1mQVY4c/ngrok-v3-stable-linux-amd64.tgz && \\\n",
    "        tar -xvzf ngrok-v3-stable-linux-amd64.tgz -C /usr/local/bin\n",
    "\n",
    "!ngrok authtoken '<YOUR_NGROK_AUTH_TOKEN>'\n",
    "\n",
    "import os\n",
    "import multiprocessing\n",
    "pool = multiprocessing.Pool(processes = 10)\n",
    "results_of_processes = [pool.apply_async(os.system, args=(cmd,))\n",
    "                        for cmd in [\n",
    "                            f'tensorboard --logdir {config[\"experiment_name\"]} --host 0.0.0.0 --port 6007 &',\n",
    "                            \"/usr/local/bin/ngrok http 6007 &\"\n",
    "                        ]]"
   ]
  },
  {
   "cell_type": "code",
   "execution_count": null,
   "metadata": {
    "execution": {
     "iopub.execute_input": "2024-04-25T12:10:36.877952Z",
     "iopub.status.busy": "2024-04-25T12:10:36.877244Z",
     "iopub.status.idle": "2024-04-25T12:10:38.022601Z",
     "shell.execute_reply": "2024-04-25T12:10:38.021381Z",
     "shell.execute_reply.started": "2024-04-25T12:10:36.877892Z"
    },
    "id": "Ev29Zl_efHY8"
   },
   "outputs": [],
   "source": [
    "!curl -s http://localhost:4040/api/tunnels | python3 -c \\\n",
    "    \"import sys, json; print('Tensorboard is running at:', json.load(sys.stdin)['tunnels'][0]['public_url'])\""
   ]
  },
  {
   "cell_type": "markdown",
   "metadata": {
    "id": "Eby5D4h2fHY9"
   },
   "source": [
    "# Training"
   ]
  },
  {
   "cell_type": "code",
   "execution_count": null,
   "metadata": {
    "id": "5wszVJugfHY9"
   },
   "outputs": [],
   "source": [
    "from nmt.train import train_model\n",
    "train_model(config)"
   ]
  },
  {
   "cell_type": "markdown",
   "metadata": {
    "id": "JF5ffv2wfHY9"
   },
   "source": [
    "# Testing"
   ]
  },
  {
   "cell_type": "code",
   "execution_count": null,
   "metadata": {},
   "outputs": [],
   "source": [
    "config['compute_bleu_kwargs']['max_steps'] = None\n",
    "config['compute_bleu_kwargs']['beam_size'] = 4\n",
    "config['compute_bleu_kwargs']"
   ]
  },
  {
   "cell_type": "code",
   "execution_count": null,
   "metadata": {
    "id": "Z-QSNa_OfHY-"
   },
   "outputs": [],
   "source": [
    "from nmt.test import test_model\n",
    "test_model(config)"
   ]
  },
  {
   "cell_type": "code",
   "execution_count": null,
   "metadata": {
    "execution": {
     "iopub.execute_input": "2024-04-02T23:40:42.405686Z",
     "iopub.status.busy": "2024-04-02T23:40:42.404902Z",
     "iopub.status.idle": "2024-04-02T23:40:43.728117Z",
     "shell.execute_reply": "2024-04-02T23:40:43.701328Z",
     "shell.execute_reply.started": "2024-04-02T23:40:42.405654Z"
    }
   },
   "outputs": [],
   "source": [
    "!pkill jupyter"
   ]
  }
 ],
 "metadata": {
  "kaggle": {
   "accelerator": "gpu",
   "dataSources": [
    {
     "datasetId": 4667930,
     "sourceId": 7939819,
     "sourceType": "datasetVersion"
    },
    {
     "datasetId": 4701993,
     "sourceId": 7987647,
     "sourceType": "datasetVersion"
    },
    {
     "datasetId": 4702971,
     "sourceId": 7989039,
     "sourceType": "datasetVersion"
    }
   ],
   "dockerImageVersionId": 30699,
   "isGpuEnabled": true,
   "isInternetEnabled": true,
   "language": "python",
   "sourceType": "notebook"
  },
  "kernelspec": {
   "display_name": "Python 3 (ipykernel)",
   "language": "python",
   "name": "python3"
  },
  "language_info": {
   "codemirror_mode": {
    "name": "ipython",
    "version": 3
   },
   "file_extension": ".py",
   "mimetype": "text/x-python",
   "name": "python",
   "nbconvert_exporter": "python",
   "pygments_lexer": "ipython3",
   "version": "3.11.8"
  }
 },
 "nbformat": 4,
 "nbformat_minor": 4
}
