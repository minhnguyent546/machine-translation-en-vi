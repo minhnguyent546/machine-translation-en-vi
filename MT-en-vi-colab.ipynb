{
 "cells": [
  {
   "cell_type": "markdown",
   "metadata": {
    "id": "LadxvMv2s-mw"
   },
   "source": [
    "# Install necessary packages"
   ]
  },
  {
   "cell_type": "code",
   "execution_count": null,
   "metadata": {
    "id": "lW9p1cnjs-A7"
   },
   "outputs": [],
   "source": [
    "!wget -q 'https://downloads.rclone.org/v1.65.1/rclone-v1.65.1-linux-amd64.deb' -O 'rclone-v1.65.1-linux-amd64.deb'\n",
    "!dpkg -i ./'rclone-v1.65.1-linux-amd64.deb' >/dev/null\n",
    "!apt install fuse3 >/dev/null"
   ]
  },
  {
   "cell_type": "markdown",
   "metadata": {
    "id": "RpZdtkMsOtAA"
   },
   "source": [
    "# Mounting OneDrive"
   ]
  },
  {
   "cell_type": "code",
   "execution_count": null,
   "metadata": {
    "cellView": "form",
    "id": "NfVpIp3qbb1N"
   },
   "outputs": [],
   "source": [
    "#@markdown # <center>rclone config file</center>\n",
    "\n",
    "from google.colab import files\n",
    "from sys import exit as end\n",
    "from pathlib import Path\n",
    "\n",
    "\n",
    "#@markdown ***\n",
    "UPLOAD_CONFIG_FILE = True #@param {type:\"boolean\"}\n",
    "DOWNLOAD_CONFIG_FILE = False #@param {type:\"boolean\"}\n",
    "\n",
    "rclone_config_dir = '/root/.config/rclone'\n",
    "rclone_config_filename = 'rclone.conf'\n",
    "rclone_config_filepath = Path(rclone_config_dir) / rclone_config_filename\n",
    "\n",
    "if UPLOAD_CONFIG_FILE:\n",
    "    print(f'Select your {rclone_config_filename} file')\n",
    "    file = files.upload()\n",
    "    if list(file.keys())[0] != rclone_config_filename:\n",
    "        end(f'File Error: File is not {rclone_config_filename}')\n",
    "    elif not Path(rclone_config_dir).exists():\n",
    "        !rclone mkdir {rclone_config_dir}\n",
    "\n",
    "    !rclone move '/content/{rclone_config_filename}' {rclone_config_dir}\n",
    "    !rclone config redacted\n",
    "elif DOWNLOAD_CONFIG_FILE:\n",
    "    if not Path(rclone_config_filepath).exists():\n",
    "        end(f'File Error: {rclone_config_filename} not found in {rclone_config_dir}')\n",
    "    files.download(rclone_config_filepath)\n"
   ]
  },
  {
   "cell_type": "code",
   "execution_count": null,
   "metadata": {
    "id": "GCsq9JkI-gBz"
   },
   "outputs": [],
   "source": [
    "%cd /content\n",
    "!umount -l /content/onedrive"
   ]
  },
  {
   "cell_type": "code",
   "execution_count": null,
   "metadata": {
    "id": "o1q7enwDRUVq"
   },
   "outputs": [],
   "source": [
    "!rm nohup.out\n",
    "!mkdir -p /content/onedrive\n",
    "!nohup rclone --vfs-cache-mode full mount google-colab-onedrive:AI/transformer-model/machine-translation-en-vi /content/onedrive &"
   ]
  },
  {
   "cell_type": "markdown",
   "metadata": {
    "id": "7uJAThSdC36d"
   },
   "source": [
    "# Fetching codes"
   ]
  },
  {
   "cell_type": "code",
   "execution_count": null,
   "metadata": {
    "execution": {
     "iopub.execute_input": "2024-02-18T23:22:30.930716Z",
     "iopub.status.busy": "2024-02-18T23:22:30.930325Z",
     "iopub.status.idle": "2024-02-18T23:22:32.144383Z",
     "shell.execute_reply": "2024-02-18T23:22:32.143286Z",
     "shell.execute_reply.started": "2024-02-18T23:22:30.930682Z"
    },
    "id": "oQNwUYCwC189"
   },
   "outputs": [],
   "source": [
    "!git clone https://github.com/minhnguyent546/machine-translation-en-vi.git\n",
    "%cd machine-translation-en-vi"
   ]
  },
  {
   "cell_type": "code",
   "execution_count": null,
   "metadata": {
    "execution": {
     "iopub.execute_input": "2024-02-18T23:19:21.337749Z",
     "iopub.status.busy": "2024-02-18T23:19:21.337384Z",
     "iopub.status.idle": "2024-02-18T23:19:35.997164Z",
     "shell.execute_reply": "2024-02-18T23:19:35.996091Z",
     "shell.execute_reply.started": "2024-02-18T23:19:21.337716Z"
    },
    "id": "RstFjRG87b8G"
   },
   "outputs": [],
   "source": [
    "!pip install -q datasets pyvi"
   ]
  },
  {
   "cell_type": "markdown",
   "metadata": {
    "id": "dc1NvOOoEcQU"
   },
   "source": [
    "# Configuration"
   ]
  },
  {
   "cell_type": "code",
   "execution_count": null,
   "metadata": {
    "execution": {
     "iopub.execute_input": "2024-02-18T23:22:54.105853Z",
     "iopub.status.busy": "2024-02-18T23:22:54.105203Z",
     "iopub.status.idle": "2024-02-18T23:22:54.114186Z",
     "shell.execute_reply": "2024-02-18T23:22:54.113421Z",
     "shell.execute_reply.started": "2024-02-18T23:22:54.105816Z"
    },
    "id": "QyiQPNTWDjUF"
   },
   "outputs": [],
   "source": [
    "from utils.config_util import get_config\n",
    "from pathlib import Path\n",
    "import os\n",
    "\n",
    "storage_dir = '/content/onedrive'\n",
    "Path(storage_dir).mkdir(parents=True, exist_ok=True)\n",
    "\n",
    "config = get_config('./config/config.yaml')\n",
    "config['checkpoints_dir'] = f'{storage_dir}/checkpoints'\n",
    "config['experiment_name'] = f'{storage_dir}/runs/model'\n",
    "config['batch_size'] = 32\n",
    "config['num_epochs'] = 10\n",
    "config['seq_length'] = 120\n",
    "config['num_validation_samples'] = 200 # -1 for evaluating the whole dataset\n",
    "config['num_test_samples'] = -1\n",
    "config['beam_size'] = 5\n",
    "# config['preload'] = None"
   ]
  },
  {
   "cell_type": "markdown",
   "metadata": {
    "id": "3C9-zN3BfHY9"
   },
   "source": [
    "# Preprocessing"
   ]
  },
  {
   "cell_type": "code",
   "execution_count": null,
   "metadata": {
    "execution": {
     "iopub.execute_input": "2024-02-18T23:23:29.996485Z",
     "iopub.status.busy": "2024-02-18T23:23:29.996099Z",
     "iopub.status.idle": "2024-02-18T23:25:58.690892Z",
     "shell.execute_reply": "2024-02-18T23:25:58.689824Z",
     "shell.execute_reply.started": "2024-02-18T23:23:29.996453Z"
    },
    "id": "PTb2onZSfHY9"
   },
   "outputs": [],
   "source": [
    "from preprocess import preprocess\n",
    "preprocess(config)"
   ]
  },
  {
   "cell_type": "markdown",
   "metadata": {
    "id": "lfUQNwKD_BM-"
   },
   "source": [
    "# Tensorboard"
   ]
  },
  {
   "cell_type": "code",
   "execution_count": null,
   "metadata": {
    "id": "f_KbFhSoAG_y"
   },
   "outputs": [],
   "source": [
    "%load_ext tensorboard\n",
    "%tensorboard --logdir {config['experiment_name']}"
   ]
  },
  {
   "cell_type": "markdown",
   "metadata": {
    "id": "Eby5D4h2fHY9"
   },
   "source": [
    "# Training"
   ]
  },
  {
   "cell_type": "code",
   "execution_count": null,
   "metadata": {
    "execution": {
     "iopub.execute_input": "2024-02-18T23:26:02.235722Z",
     "iopub.status.busy": "2024-02-18T23:26:02.235069Z",
     "iopub.status.idle": "2024-02-19T03:46:08.149822Z",
     "shell.execute_reply": "2024-02-19T03:46:08.148960Z",
     "shell.execute_reply.started": "2024-02-18T23:26:02.235688Z"
    },
    "id": "5wszVJugfHY9"
   },
   "outputs": [],
   "source": [
    "from train_model import train_model\n",
    "train_model(config)"
   ]
  },
  {
   "cell_type": "markdown",
   "metadata": {
    "id": "JF5ffv2wfHY9"
   },
   "source": [
    "# Testing"
   ]
  },
  {
   "cell_type": "code",
   "execution_count": null,
   "metadata": {
    "execution": {
     "iopub.execute_input": "2024-02-18T15:43:50.967132Z",
     "iopub.status.busy": "2024-02-18T15:43:50.966720Z",
     "iopub.status.idle": "2024-02-18T15:45:33.917623Z",
     "shell.execute_reply": "2024-02-18T15:45:33.916607Z",
     "shell.execute_reply.started": "2024-02-18T15:43:50.967096Z"
    },
    "id": "Z-QSNa_OfHY-"
   },
   "outputs": [],
   "source": [
    "from test_model import test_model\n",
    "test_model(config)"
   ]
  }
 ],
 "metadata": {
  "colab": {
   "provenance": []
  },
  "kaggle": {
   "accelerator": "gpu",
   "dataSources": [
    {
     "datasetId": 4454990,
     "sourceId": 7643303,
     "sourceType": "datasetVersion"
    }
   ],
   "dockerImageVersionId": 30646,
   "isGpuEnabled": true,
   "isInternetEnabled": true,
   "language": "python",
   "sourceType": "notebook"
  },
  "kernelspec": {
   "display_name": "Python 3 (ipykernel)",
   "language": "python",
   "name": "python3"
  },
  "language_info": {
   "codemirror_mode": {
    "name": "ipython",
    "version": 3
   },
   "file_extension": ".py",
   "mimetype": "text/x-python",
   "name": "python",
   "nbconvert_exporter": "python",
   "pygments_lexer": "ipython3",
   "version": "3.11.7"
  }
 },
 "nbformat": 4,
 "nbformat_minor": 4
}
