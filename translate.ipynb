{
 "cells": [
  {
   "cell_type": "markdown",
   "id": "a56a2a79-5683-47b3-b7f9-f6248ccbf782",
   "metadata": {},
   "source": [
    "# Importing packages"
   ]
  },
  {
   "cell_type": "code",
   "execution_count": null,
   "id": "66e6be7a-7757-4930-b997-77f951a76289",
   "metadata": {},
   "outputs": [],
   "source": [
    "import torch\n",
    "\n",
    "from tokenizers import Tokenizer\n",
    "\n",
    "from nmt.utils import config as config_util\n",
    "from nmt.translator import Translator\n",
    "from transformer import build_transformer"
   ]
  },
  {
   "cell_type": "markdown",
   "id": "0e109d54-2f33-4fda-8b35-fdfd32b27a53",
   "metadata": {},
   "source": [
    "# Loading config file"
   ]
  },
  {
   "cell_type": "code",
   "execution_count": null,
   "id": "7a8e0200-2df0-4a62-a256-84e8d9ed5e55",
   "metadata": {},
   "outputs": [],
   "source": [
    "config_path = './config/inference.yaml'\n",
    "config = config_util.get_config(config_path)"
   ]
  },
  {
   "cell_type": "markdown",
   "id": "50aafb1c-abdc-4da9-957b-08b04e60fd0e",
   "metadata": {},
   "source": [
    "# Building `Translator` "
   ]
  },
  {
   "cell_type": "code",
   "execution_count": 3,
   "id": "e92a3ff1-53e9-45aa-97a0-f72c239939c5",
   "metadata": {
    "execution": {
     "iopub.execute_input": "2024-06-02T16:39:34.307673Z",
     "iopub.status.busy": "2024-06-02T16:39:34.307007Z",
     "iopub.status.idle": "2024-06-02T16:39:35.702541Z",
     "shell.execute_reply": "2024-06-02T16:39:35.702134Z",
     "shell.execute_reply.started": "2024-06-02T16:39:34.307614Z"
    }
   },
   "outputs": [
    {
     "name": "stdout",
     "output_type": "stream",
     "text": [
      "Loading tokenizers\n",
      "Loading model\n"
     ]
    }
   ],
   "source": [
    "device = 'cuda' if torch.cuda.is_available() else 'cpu'\n",
    "device = torch.device(device)\n",
    "\n",
    "print('Loading tokenizers')\n",
    "src_tokenizer = Tokenizer.from_file(config['src_tokenizer'])\n",
    "target_tokenizer = Tokenizer.from_file(config['target_tokenizer'])\n",
    "\n",
    "print('Loading model')\n",
    "checkpoint_states = torch.load(config['checkpoint'], map_location=device)\n",
    "required_keys = [\n",
    "    'model_state_dict',\n",
    "    'config',\n",
    "]\n",
    "for key in required_keys:\n",
    "    if key not in checkpoint_states:\n",
    "        raise ValueError(f'Missing key \"{key}\" in checkpoint')\n",
    "\n",
    "transformer_config = checkpoint_states['config']\n",
    "transformer_config.device = device\n",
    "model = build_transformer(transformer_config).to(device)\n",
    "model.load_state_dict(checkpoint_states['model_state_dict'])\n",
    "\n",
    "translator = Translator(model, src_tokenizer, target_tokenizer, config)"
   ]
  },
  {
   "cell_type": "code",
   "execution_count": 4,
   "id": "8beb2390-0b04-4969-a953-c2e3cfd7b694",
   "metadata": {
    "execution": {
     "iopub.execute_input": "2024-06-02T16:39:40.326749Z",
     "iopub.status.busy": "2024-06-02T16:39:40.326079Z",
     "iopub.status.idle": "2024-06-02T16:39:40.663607Z",
     "shell.execute_reply": "2024-06-02T16:39:40.663316Z",
     "shell.execute_reply.started": "2024-06-02T16:39:40.326688Z"
    }
   },
   "outputs": [
    {
     "data": {
      "text/plain": [
       "['xin chào, thế giới!', 'xin chào!', 'xin chào thế giới!']"
      ]
     },
     "execution_count": 4,
     "metadata": {},
     "output_type": "execute_result"
    }
   ],
   "source": [
    "translator(\"hello, world!\", beam_size=config['beam_size'], beam_return_topk=config['beam_return_topk'], max_seq_length=config['seq_length'])"
   ]
  },
  {
   "cell_type": "code",
   "execution_count": 5,
   "id": "ba0fe24e-40fb-4a01-85b1-638e71470690",
   "metadata": {
    "execution": {
     "iopub.execute_input": "2024-06-02T16:39:42.378480Z",
     "iopub.status.busy": "2024-06-02T16:39:42.377829Z",
     "iopub.status.idle": "2024-06-02T16:39:42.974750Z",
     "shell.execute_reply": "2024-06-02T16:39:42.974407Z",
     "shell.execute_reply.started": "2024-06-02T16:39:42.378416Z"
    }
   },
   "outputs": [
    {
     "data": {
      "text/plain": [
       "['anh ấy có biết không?', 'anh ta có biết không?', 'ông ấy có biết không?']"
      ]
     },
     "execution_count": 5,
     "metadata": {},
     "output_type": "execute_result"
    }
   ],
   "source": [
    "translator(\"Does he know about this?\", beam_size=config['beam_size'], beam_return_topk=config['beam_return_topk'], max_seq_length=config['seq_length'])"
   ]
  },
  {
   "cell_type": "code",
   "execution_count": 6,
   "id": "34076a8e-2c37-4a3c-ac04-0fa850f3663f",
   "metadata": {
    "execution": {
     "iopub.execute_input": "2024-06-02T16:39:43.043080Z",
     "iopub.status.busy": "2024-06-02T16:39:43.042889Z",
     "iopub.status.idle": "2024-06-02T16:39:43.781297Z",
     "shell.execute_reply": "2024-06-02T16:39:43.780861Z",
     "shell.execute_reply.started": "2024-06-02T16:39:43.043064Z"
    }
   },
   "outputs": [
    {
     "data": {
      "text/plain": [
       "['tôi không biết làm thế nào.',\n",
       " 'tôi không biết làm thế nào để làm điều đó.',\n",
       " 'tôi không biết làm thế nào để làm được điều đó.']"
      ]
     },
     "execution_count": 6,
     "metadata": {},
     "output_type": "execute_result"
    }
   ],
   "source": [
    "translator(\"i don't know how to do that.\", beam_size=config['beam_size'], beam_return_topk=config['beam_return_topk'], max_seq_length=config['seq_length'])"
   ]
  },
  {
   "cell_type": "code",
   "execution_count": 7,
   "id": "9dd51428-11c5-4bad-a45f-64ae259a5be1",
   "metadata": {
    "execution": {
     "iopub.execute_input": "2024-06-02T16:39:43.782548Z",
     "iopub.status.busy": "2024-06-02T16:39:43.782210Z",
     "iopub.status.idle": "2024-06-02T16:39:44.579797Z",
     "shell.execute_reply": "2024-06-02T16:39:44.579343Z",
     "shell.execute_reply.started": "2024-06-02T16:39:43.782525Z"
    }
   },
   "outputs": [
    {
     "data": {
      "text/plain": [
       "['tôi không biết làm thế nào để làm việc này.',\n",
       " 'tôi không biết làm thế nào để làm được điều này.',\n",
       " 'tôi không biết làm thế nào để làm những điều này.']"
      ]
     },
     "execution_count": 7,
     "metadata": {},
     "output_type": "execute_result"
    }
   ],
   "source": [
    "translator(\"i don't know how to do these.\", beam_size=config['beam_size'], beam_return_topk=config['beam_return_topk'], max_seq_length=config['seq_length'])"
   ]
  },
  {
   "cell_type": "code",
   "execution_count": 8,
   "id": "ea3f3585-d049-4aab-af19-01a7aca44910",
   "metadata": {
    "execution": {
     "iopub.execute_input": "2024-06-02T16:39:44.581031Z",
     "iopub.status.busy": "2024-06-02T16:39:44.580451Z",
     "iopub.status.idle": "2024-06-02T16:39:45.086733Z",
     "shell.execute_reply": "2024-06-02T16:39:45.086208Z",
     "shell.execute_reply.started": "2024-06-02T16:39:44.581011Z"
    }
   },
   "outputs": [
    {
     "data": {
      "text/plain": [
       "['nó đã hỏng, tuyệt vời!', 'nó bị hỏng, tuyệt vời!', 'nó đã vỡ, tuyệt vời!']"
      ]
     },
     "execution_count": 8,
     "metadata": {},
     "output_type": "execute_result"
    }
   ],
   "source": [
    "translator(\"it's broken, great!\", beam_size=config['beam_size'], beam_return_topk=config['beam_return_topk'], max_seq_length=config['seq_length'])"
   ]
  },
  {
   "cell_type": "code",
   "execution_count": 9,
   "id": "f841d780-291e-487f-9da6-aa6fab5336cb",
   "metadata": {
    "execution": {
     "iopub.execute_input": "2024-06-02T16:39:45.367323Z",
     "iopub.status.busy": "2024-06-02T16:39:45.366920Z",
     "iopub.status.idle": "2024-06-02T16:39:46.395030Z",
     "shell.execute_reply": "2024-06-02T16:39:46.394562Z",
     "shell.execute_reply.started": "2024-06-02T16:39:45.367288Z"
    }
   },
   "outputs": [
    {
     "data": {
      "text/plain": [
       "['bạn sẽ ngạc nhiên khi trẻ em bị ảnh hưởng bởi điều này.',\n",
       " 'bạn sẽ ngạc nhiên khi những đứa trẻ bị ảnh hưởng bởi điều này.',\n",
       " 'bạn sẽ ngạc nhiên khi trẻ con bị ảnh hưởng bởi điều này.']"
      ]
     },
     "execution_count": 9,
     "metadata": {},
     "output_type": "execute_result"
    }
   ],
   "source": [
    "translator(\"You would be surprised how kids are affected by this\", beam_size=config['beam_size'], beam_return_topk=config['beam_return_topk'], max_seq_length=config['seq_length'])"
   ]
  },
  {
   "cell_type": "code",
   "execution_count": 11,
   "id": "b020742f-f210-4473-b82c-054490eb4e40",
   "metadata": {
    "execution": {
     "iopub.execute_input": "2024-06-02T16:39:47.176441Z",
     "iopub.status.busy": "2024-06-02T16:39:47.176076Z",
     "iopub.status.idle": "2024-06-02T16:39:47.380010Z",
     "shell.execute_reply": "2024-06-02T16:39:47.379654Z",
     "shell.execute_reply.started": "2024-06-02T16:39:47.176415Z"
    }
   },
   "outputs": [
    {
     "data": {
      "text/plain": [
       "['bạn sẽ', 'các bạn', 'bạn có thể']"
      ]
     },
     "execution_count": 11,
     "metadata": {},
     "output_type": "execute_result"
    }
   ],
   "source": [
    "translator(\"You would be surprised how kids are affected by this\", beam_size=config['beam_size'], beam_return_topk=config['beam_return_topk'], max_seq_length=2)\n"
   ]
  }
 ],
 "metadata": {
  "kernelspec": {
   "display_name": "Python 3 (ipykernel)",
   "language": "python",
   "name": "python3"
  },
  "language_info": {
   "codemirror_mode": {
    "name": "ipython",
    "version": 3
   },
   "file_extension": ".py",
   "mimetype": "text/x-python",
   "name": "python",
   "nbconvert_exporter": "python",
   "pygments_lexer": "ipython3",
   "version": "3.12.3"
  }
 },
 "nbformat": 4,
 "nbformat_minor": 5
}
