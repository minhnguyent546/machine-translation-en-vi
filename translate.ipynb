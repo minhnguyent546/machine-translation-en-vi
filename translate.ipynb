{
 "cells": [
  {
   "cell_type": "markdown",
   "id": "a56a2a79-5683-47b3-b7f9-f6248ccbf782",
   "metadata": {},
   "source": [
    "# Importing packages"
   ]
  },
  {
   "cell_type": "code",
   "execution_count": null,
   "id": "66e6be7a-7757-4930-b997-77f951a76289",
   "metadata": {},
   "outputs": [],
   "source": [
    "import torch\n",
    "\n",
    "from tokenizers import Tokenizer\n",
    "\n",
    "from nmt.utils import (\n",
    "    model as model_util,\n",
    "    config as config_util,\n",
    ")\n",
    "from nmt.translator import Translator"
   ]
  },
  {
   "cell_type": "markdown",
   "id": "0e109d54-2f33-4fda-8b35-fdfd32b27a53",
   "metadata": {},
   "source": [
    "# Loading config file"
   ]
  },
  {
   "cell_type": "code",
   "execution_count": 2,
   "id": "7a8e0200-2df0-4a62-a256-84e8d9ed5e55",
   "metadata": {
    "execution": {
     "iopub.execute_input": "2024-05-03T09:12:51.902966Z",
     "iopub.status.busy": "2024-05-03T09:12:51.902670Z",
     "iopub.status.idle": "2024-05-03T09:12:51.909482Z",
     "shell.execute_reply": "2024-05-03T09:12:51.909143Z",
     "shell.execute_reply.started": "2024-05-03T09:12:51.902953Z"
    }
   },
   "outputs": [
    {
     "data": {
      "text/plain": [
       "{'model_path': './_test_translate/transformer-nmt-base/transformer_nmt_base_09.pt',\n",
       " 'src_tokenizer': './_test_translate/transformer-nmt-base/tokenizer_source.json',\n",
       " 'target_tokenizer': './_test_translate/transformer-nmt-base/tokenizer_target.json',\n",
       " 'd_model': 512,\n",
       " 'num_layers': 6,\n",
       " 'num_heads': 8,\n",
       " 'd_ffn': 2048,\n",
       " 'seq_length': 120,\n",
       " 'beam_size': 4,\n",
       " 'beam_return_topk': 3,\n",
       " 'preprocess': {'lowercase': True, 'contractions': True},\n",
       " 'postprocess': {'remove_underscores': True}}"
      ]
     },
     "execution_count": 2,
     "metadata": {},
     "output_type": "execute_result"
    }
   ],
   "source": [
    "config_path = './config/inference.yaml'\n",
    "config = config_util.get_config(config_path)\n",
    "config"
   ]
  },
  {
   "cell_type": "markdown",
   "id": "50aafb1c-abdc-4da9-957b-08b04e60fd0e",
   "metadata": {},
   "source": [
    "# Building `Translator` "
   ]
  },
  {
   "cell_type": "code",
   "execution_count": 3,
   "id": "e92a3ff1-53e9-45aa-97a0-f72c239939c5",
   "metadata": {
    "execution": {
     "iopub.execute_input": "2024-05-03T09:12:51.910262Z",
     "iopub.status.busy": "2024-05-03T09:12:51.910059Z",
     "iopub.status.idle": "2024-05-03T09:12:52.935485Z",
     "shell.execute_reply": "2024-05-03T09:12:52.935059Z",
     "shell.execute_reply.started": "2024-05-03T09:12:51.910243Z"
    }
   },
   "outputs": [
    {
     "name": "stdout",
     "output_type": "stream",
     "text": [
      "Loading tokenizers\n",
      "Model has 80904084 learnable parameters\n"
     ]
    }
   ],
   "source": [
    "device = 'cuda' if torch.cuda.is_available() else 'cpu'\n",
    "device = torch.device(device)\n",
    "\n",
    "print('Loading tokenizers')\n",
    "src_tokenizer = Tokenizer.from_file(config['src_tokenizer'])\n",
    "target_tokenizer = Tokenizer.from_file(config['target_tokenizer'])\n",
    "\n",
    "model = model_util.make_model(src_tokenizer, target_tokenizer, config)\n",
    "model.to(device)\n",
    "\n",
    "states = torch.load(config['model_path'], map_location=device)\n",
    "\n",
    "model.load_state_dict(states['model_state_dict'])\n",
    "\n",
    "translator = Translator(model, src_tokenizer, target_tokenizer, config)"
   ]
  },
  {
   "cell_type": "code",
   "execution_count": 4,
   "id": "8beb2390-0b04-4969-a953-c2e3cfd7b694",
   "metadata": {
    "execution": {
     "iopub.execute_input": "2024-05-03T09:12:52.936353Z",
     "iopub.status.busy": "2024-05-03T09:12:52.936138Z",
     "iopub.status.idle": "2024-05-03T09:12:53.208890Z",
     "shell.execute_reply": "2024-05-03T09:12:53.208587Z",
     "shell.execute_reply.started": "2024-05-03T09:12:52.936335Z"
    }
   },
   "outputs": [
    {
     "data": {
      "text/plain": [
       "['xin chào, thế giới!', 'xin chào thế giới!', 'chào thế giới!']"
      ]
     },
     "execution_count": 4,
     "metadata": {},
     "output_type": "execute_result"
    }
   ],
   "source": [
    "translator(\"hello, world!\", beam_size=config['beam_size'], beam_return_topk=config['beam_return_topk'], max_seq_length=config['seq_length'])"
   ]
  },
  {
   "cell_type": "code",
   "execution_count": 5,
   "id": "ba0fe24e-40fb-4a01-85b1-638e71470690",
   "metadata": {
    "execution": {
     "iopub.execute_input": "2024-05-03T09:12:53.209516Z",
     "iopub.status.busy": "2024-05-03T09:12:53.209390Z",
     "iopub.status.idle": "2024-05-03T09:12:53.789360Z",
     "shell.execute_reply": "2024-05-03T09:12:53.784350Z",
     "shell.execute_reply.started": "2024-05-03T09:12:53.209504Z"
    }
   },
   "outputs": [
    {
     "data": {
      "text/plain": [
       "['anh ta có biết về điều này không?',\n",
       " 'anh ta có biết không?',\n",
       " 'anh ấy có biết về điều này không?']"
      ]
     },
     "execution_count": 5,
     "metadata": {},
     "output_type": "execute_result"
    }
   ],
   "source": [
    "translator(\"Does he know about this?\", beam_size=config['beam_size'], beam_return_topk=config['beam_return_topk'], max_seq_length=config['seq_length'])"
   ]
  },
  {
   "cell_type": "code",
   "execution_count": 6,
   "id": "34076a8e-2c37-4a3c-ac04-0fa850f3663f",
   "metadata": {
    "execution": {
     "iopub.execute_input": "2024-05-03T09:12:53.791568Z",
     "iopub.status.busy": "2024-05-03T09:12:53.791261Z",
     "iopub.status.idle": "2024-05-03T09:12:54.496659Z",
     "shell.execute_reply": "2024-05-03T09:12:54.496136Z",
     "shell.execute_reply.started": "2024-05-03T09:12:53.791541Z"
    }
   },
   "outputs": [
    {
     "data": {
      "text/plain": [
       "['tôi không biết làm thế nào.',\n",
       " 'tôi không biết làm thế nào để làm điều đó.',\n",
       " 'tôi không biết làm sao để làm điều đó.']"
      ]
     },
     "execution_count": 6,
     "metadata": {},
     "output_type": "execute_result"
    }
   ],
   "source": [
    "translator(\"i don't know how to do that.\", beam_size=config['beam_size'], beam_return_topk=config['beam_return_topk'], max_seq_length=config['seq_length'])"
   ]
  },
  {
   "cell_type": "code",
   "execution_count": 7,
   "id": "9dd51428-11c5-4bad-a45f-64ae259a5be1",
   "metadata": {
    "execution": {
     "iopub.execute_input": "2024-05-03T09:12:54.497384Z",
     "iopub.status.busy": "2024-05-03T09:12:54.497227Z",
     "iopub.status.idle": "2024-05-03T09:12:55.206771Z",
     "shell.execute_reply": "2024-05-03T09:12:55.205929Z",
     "shell.execute_reply.started": "2024-05-03T09:12:54.497370Z"
    }
   },
   "outputs": [
    {
     "data": {
      "text/plain": [
       "['tôi không biết làm thế nào.',\n",
       " 'tôi không biết làm thế nào để làm những điều này.',\n",
       " 'tôi không biết làm thế nào để làm được điều này.']"
      ]
     },
     "execution_count": 7,
     "metadata": {},
     "output_type": "execute_result"
    }
   ],
   "source": [
    "translator(\"i don't know how to do these.\", beam_size=config['beam_size'], beam_return_topk=config['beam_return_topk'], max_seq_length=config['seq_length'])"
   ]
  },
  {
   "cell_type": "code",
   "execution_count": 8,
   "id": "ea3f3585-d049-4aab-af19-01a7aca44910",
   "metadata": {
    "execution": {
     "iopub.execute_input": "2024-05-03T09:12:55.207808Z",
     "iopub.status.busy": "2024-05-03T09:12:55.207604Z",
     "iopub.status.idle": "2024-05-03T09:12:55.669918Z",
     "shell.execute_reply": "2024-05-03T09:12:55.669559Z",
     "shell.execute_reply.started": "2024-05-03T09:12:55.207792Z"
    }
   },
   "outputs": [
    {
     "data": {
      "text/plain": [
       "['nó bị gãy, tuyệt!', 'nó bị gãy, tuyệt vời!', 'nó bị hỏng, tuyệt!']"
      ]
     },
     "execution_count": 8,
     "metadata": {},
     "output_type": "execute_result"
    }
   ],
   "source": [
    "translator(\"it's broken, great!\", beam_size=config['beam_size'], beam_return_topk=config['beam_return_topk'], max_seq_length=config['seq_length'])"
   ]
  },
  {
   "cell_type": "code",
   "execution_count": 9,
   "id": "f841d780-291e-487f-9da6-aa6fab5336cb",
   "metadata": {
    "execution": {
     "iopub.execute_input": "2024-05-03T09:12:55.670658Z",
     "iopub.status.busy": "2024-05-03T09:12:55.670477Z",
     "iopub.status.idle": "2024-05-03T09:12:56.516226Z",
     "shell.execute_reply": "2024-05-03T09:12:56.515789Z",
     "shell.execute_reply.started": "2024-05-03T09:12:55.670640Z"
    }
   },
   "outputs": [
    {
     "data": {
      "text/plain": [
       "['bạn sẽ ngạc nhiên khi trẻ em bị ảnh hưởng bởi điều này.',\n",
       " 'bạn sẽ ngạc nhiên làm sao những đứa trẻ bị ảnh hưởng bởi điều này.',\n",
       " 'bạn sẽ ngạc nhiên khi những đứa trẻ bị ảnh hưởng bởi điều này.']"
      ]
     },
     "execution_count": 9,
     "metadata": {},
     "output_type": "execute_result"
    }
   ],
   "source": [
    "translator(\"You would be surprised how kids are affected by this\", beam_size=config['beam_size'], beam_return_topk=config['beam_return_topk'], max_seq_length=config['seq_length'])"
   ]
  },
  {
   "cell_type": "code",
   "execution_count": 11,
   "id": "b020742f-f210-4473-b82c-054490eb4e40",
   "metadata": {
    "execution": {
     "iopub.execute_input": "2024-05-03T09:13:48.930574Z",
     "iopub.status.busy": "2024-05-03T09:13:48.929926Z",
     "iopub.status.idle": "2024-05-03T09:13:49.057406Z",
     "shell.execute_reply": "2024-05-03T09:13:49.057075Z",
     "shell.execute_reply.started": "2024-05-03T09:13:48.930513Z"
    }
   },
   "outputs": [
    {
     "data": {
      "text/plain": [
       "['bạn sẽ', 'các bạn', 'bạn có thể']"
      ]
     },
     "execution_count": 11,
     "metadata": {},
     "output_type": "execute_result"
    }
   ],
   "source": [
    "translator(\"You would be surprised how kids are affected by this\", beam_size=config['beam_size'], beam_return_topk=config['beam_return_topk'], max_seq_length=2)\n"
   ]
  }
 ],
 "metadata": {
  "kernelspec": {
   "display_name": "Python 3 (ipykernel)",
   "language": "python",
   "name": "python3"
  },
  "language_info": {
   "codemirror_mode": {
    "name": "ipython",
    "version": 3
   },
   "file_extension": ".py",
   "mimetype": "text/x-python",
   "name": "python",
   "nbconvert_exporter": "python",
   "pygments_lexer": "ipython3",
   "version": "3.11.8"
  }
 },
 "nbformat": 4,
 "nbformat_minor": 5
}
