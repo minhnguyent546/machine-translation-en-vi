{
 "cells": [
  {
   "cell_type": "markdown",
   "metadata": {
    "id": "7uJAThSdC36d"
   },
   "source": [
    "# Fetching codes"
   ]
  },
  {
   "cell_type": "code",
   "execution_count": null,
   "metadata": {
    "execution": {
     "iopub.execute_input": "2024-02-22T04:21:58.299552Z",
     "iopub.status.busy": "2024-02-22T04:21:58.299144Z",
     "iopub.status.idle": "2024-02-22T04:22:00.108546Z",
     "shell.execute_reply": "2024-02-22T04:22:00.107521Z",
     "shell.execute_reply.started": "2024-02-22T04:21:58.299520Z"
    },
    "id": "oQNwUYCwC189"
   },
   "outputs": [],
   "source": [
    "!git clone https://github.com/minhnguyent546/machine-translation-en-vi.git\n",
    "%cd machine-translation-en-vi"
   ]
  },
  {
   "cell_type": "code",
   "execution_count": null,
   "metadata": {
    "execution": {
     "iopub.execute_input": "2024-02-22T04:22:05.872906Z",
     "iopub.status.busy": "2024-02-22T04:22:05.872468Z",
     "iopub.status.idle": "2024-02-22T04:22:23.829514Z",
     "shell.execute_reply": "2024-02-22T04:22:23.827688Z",
     "shell.execute_reply.started": "2024-02-22T04:22:05.872870Z"
    },
    "id": "RstFjRG87b8G"
   },
   "outputs": [],
   "source": [
    "!pip install -q datasets pyvi"
   ]
  },
  {
   "cell_type": "markdown",
   "metadata": {
    "id": "dc1NvOOoEcQU"
   },
   "source": [
    "# Configuration"
   ]
  },
  {
   "cell_type": "code",
   "execution_count": null,
   "metadata": {
    "execution": {
     "iopub.execute_input": "2024-02-22T04:22:28.913991Z",
     "iopub.status.busy": "2024-02-22T04:22:28.913530Z",
     "iopub.status.idle": "2024-02-22T04:22:28.925156Z",
     "shell.execute_reply": "2024-02-22T04:22:28.924142Z",
     "shell.execute_reply.started": "2024-02-22T04:22:28.913955Z"
    },
    "id": "QyiQPNTWDjUF"
   },
   "outputs": [],
   "source": [
    "from utils.config_util import get_config\n",
    "from pathlib import Path\n",
    "import os\n",
    "\n",
    "storage_dir = '/kaggle/working/storage'\n",
    "Path(storage_dir).mkdir(parents=True, exist_ok=True)\n",
    "\n",
    "config = get_config('./config/config.yaml)\n",
    "config['checkpoints_dir'] = f'{storage_dir}/checkpoints'\n",
    "config['experiment_name'] = f'{storage_dir}/runs/model'\n",
    "config['batch_size'] = 32\n",
    "config['num_epochs'] = 10\n",
    "config['seq_length'] = 120\n",
    "config['num_validation_samples'] = 200 # -1 for evaluating the whole dataset\n",
    "config['num_test_samples'] = -1\n",
    "config['beam_size'] = 5\n",
    "# config['preload'] = None"
   ]
  },
  {
   "cell_type": "markdown",
   "metadata": {
    "id": "3C9-zN3BfHY9"
   },
   "source": [
    "# Preprocessing"
   ]
  },
  {
   "cell_type": "code",
   "execution_count": null,
   "metadata": {
    "execution": {
     "iopub.execute_input": "2024-02-22T04:22:37.224570Z",
     "iopub.status.busy": "2024-02-22T04:22:37.224085Z",
     "iopub.status.idle": "2024-02-22T04:25:31.506356Z",
     "shell.execute_reply": "2024-02-22T04:25:31.505096Z",
     "shell.execute_reply.started": "2024-02-22T04:22:37.224534Z"
    },
    "id": "PTb2onZSfHY9"
   },
   "outputs": [],
   "source": [
    "from preprocess import preprocess\n",
    "preprocess(config)"
   ]
  },
  {
   "cell_type": "markdown",
   "metadata": {
    "id": "mAWq_d9P3I72"
   },
   "source": [
    "# Tensorboard"
   ]
  },
  {
   "cell_type": "code",
   "execution_count": null,
   "metadata": {
    "execution": {
     "iopub.execute_input": "2024-02-22T04:26:06.813649Z",
     "iopub.status.busy": "2024-02-22T04:26:06.813157Z",
     "iopub.status.idle": "2024-02-22T04:26:06.837334Z",
     "shell.execute_reply": "2024-02-22T04:26:06.836146Z",
     "shell.execute_reply.started": "2024-02-22T04:26:06.813613Z"
    },
    "id": "5_XOPFObfHY7"
   },
   "outputs": [],
   "source": [
    "%load_ext tensorboard"
   ]
  },
  {
   "cell_type": "code",
   "execution_count": null,
   "metadata": {
    "execution": {
     "iopub.execute_input": "2024-02-22T04:27:20.409738Z",
     "iopub.status.busy": "2024-02-22T04:27:20.409098Z",
     "iopub.status.idle": "2024-02-22T04:27:22.980756Z",
     "shell.execute_reply": "2024-02-22T04:27:22.976036Z",
     "shell.execute_reply.started": "2024-02-22T04:27:20.409684Z"
    },
    "id": "cBDr1gznfHY8"
   },
   "outputs": [],
   "source": [
    "! ! command -v ngrok &>/dev/null && \\\n",
    "        wget https://bin.equinox.io/c/bNyj1mQVY4c/ngrok-v3-stable-linux-amd64.tgz && \\\n",
    "        tar -xvzf ngrok-v3-stable-linux-amd64.tgz -C /usr/local/bin\n",
    "\n",
    "!ngrok authtoken <YOUR_NGROK_AUTH_TOKEN>\n",
    "\n",
    "import os\n",
    "import multiprocessing\n",
    "pool = multiprocessing.Pool(processes = 10)\n",
    "results_of_processes = [pool.apply_async(os.system, args=(cmd,))\n",
    "                        for cmd in [\n",
    "                            f'tensorboard --logdir {config[\"experiment_name\"]} --host 0.0.0.0 --port 6006 &',\n",
    "                            \"/usr/local/bin/ngrok http 6006 &\"\n",
    "                        ]]"
   ]
  },
  {
   "cell_type": "code",
   "execution_count": null,
   "metadata": {
    "execution": {
     "iopub.execute_input": "2024-02-22T04:27:34.896393Z",
     "iopub.status.busy": "2024-02-22T04:27:34.895846Z",
     "iopub.status.idle": "2024-02-22T04:27:36.195715Z",
     "shell.execute_reply": "2024-02-22T04:27:36.193720Z",
     "shell.execute_reply.started": "2024-02-22T04:27:34.896345Z"
    },
    "id": "Ev29Zl_efHY8"
   },
   "outputs": [],
   "source": [
    "!curl -s http://localhost:4040/api/tunnels | python3 -c \\\n",
    "    \"import sys, json; print('Tensorboard running at:', json.load(sys.stdin)['tunnels'][0]['public_url'])\""
   ]
  },
  {
   "cell_type": "markdown",
   "metadata": {
    "id": "Eby5D4h2fHY9"
   },
   "source": [
    "# Training"
   ]
  },
  {
   "cell_type": "code",
   "execution_count": null,
   "metadata": {
    "execution": {
     "iopub.execute_input": "2024-02-22T04:28:07.568925Z",
     "iopub.status.busy": "2024-02-22T04:28:07.568436Z",
     "iopub.status.idle": "2024-02-22T04:30:12.663915Z",
     "shell.execute_reply": "2024-02-22T04:30:12.661289Z",
     "shell.execute_reply.started": "2024-02-22T04:28:07.568891Z"
    },
    "id": "5wszVJugfHY9"
   },
   "outputs": [],
   "source": [
    "from train_model import train_model\n",
    "train_model(config)"
   ]
  },
  {
   "cell_type": "markdown",
   "metadata": {
    "id": "JF5ffv2wfHY9"
   },
   "source": [
    "# Testing"
   ]
  },
  {
   "cell_type": "code",
   "execution_count": null,
   "metadata": {
    "id": "Z-QSNa_OfHY-"
   },
   "outputs": [],
   "source": [
    "from test_model import test_model\n",
    "test_model(config)"
   ]
  }
 ],
 "metadata": {
  "accelerator": "GPU",
  "colab": {
   "gpuType": "T4",
   "provenance": [],
   "toc_visible": true
  },
  "kaggle": {
   "accelerator": "none",
   "dataSources": [
    {
     "datasetId": 4454990,
     "sourceId": 7643303,
     "sourceType": "datasetVersion"
    }
   ],
   "dockerImageVersionId": 30648,
   "isGpuEnabled": false,
   "isInternetEnabled": true,
   "language": "python",
   "sourceType": "notebook"
  },
  "kernelspec": {
   "display_name": "Python 3 (ipykernel)",
   "language": "python",
   "name": "python3"
  },
  "language_info": {
   "codemirror_mode": {
    "name": "ipython",
    "version": 3
   },
   "file_extension": ".py",
   "mimetype": "text/x-python",
   "name": "python",
   "nbconvert_exporter": "python",
   "pygments_lexer": "ipython3",
   "version": "3.11.7"
  }
 },
 "nbformat": 4,
 "nbformat_minor": 4
}
