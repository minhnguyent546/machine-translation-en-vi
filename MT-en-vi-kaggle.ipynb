{
  "metadata": {
    "accelerator": "GPU",
    "colab": {
      "gpuType": "T4",
      "provenance": [],
      "toc_visible": true
    },
    "kernelspec": {
      "name": "python3",
      "display_name": "Python 3",
      "language": "python"
    },
    "language_info": {
      "name": "python",
      "version": "3.10.13",
      "mimetype": "text/x-python",
      "codemirror_mode": {
        "name": "ipython",
        "version": 3
      },
      "pygments_lexer": "ipython3",
      "nbconvert_exporter": "python",
      "file_extension": ".py"
    },
    "kaggle": {
      "accelerator": "none",
      "dataSources": [
        {
          "sourceId": 7643303,
          "sourceType": "datasetVersion",
          "datasetId": 4454990
        }
      ],
      "dockerImageVersionId": 30648,
      "isInternetEnabled": true,
      "language": "python",
      "sourceType": "notebook",
      "isGpuEnabled": false
    }
  },
  "nbformat_minor": 0,
  "nbformat": 4,
  "cells": [
    {
      "cell_type": "markdown",
      "source": [
        "# Fetching codes"
      ],
      "metadata": {
        "id": "7uJAThSdC36d"
      }
    },
    {
      "cell_type": "code",
      "source": [
        "!git clone https://github.com/minhnguyent546/machine-translation-en-vi.git\n",
        "%cd machine-translation-en-vi"
      ],
      "metadata": {
        "id": "oQNwUYCwC189",
        "execution": {
          "iopub.status.busy": "2024-02-22T04:21:58.299144Z",
          "iopub.execute_input": "2024-02-22T04:21:58.299552Z",
          "iopub.status.idle": "2024-02-22T04:22:00.108546Z",
          "shell.execute_reply.started": "2024-02-22T04:21:58.299520Z",
          "shell.execute_reply": "2024-02-22T04:22:00.107521Z"
        },
        "trusted": true
      },
      "execution_count": null,
      "outputs": []
    },
    {
      "cell_type": "code",
      "source": [
        "!pip install -q datasets pyvi"
      ],
      "metadata": {
        "id": "RstFjRG87b8G",
        "execution": {
          "iopub.status.busy": "2024-02-22T04:22:05.872468Z",
          "iopub.execute_input": "2024-02-22T04:22:05.872906Z",
          "iopub.status.idle": "2024-02-22T04:22:23.829514Z",
          "shell.execute_reply.started": "2024-02-22T04:22:05.872870Z",
          "shell.execute_reply": "2024-02-22T04:22:23.827688Z"
        },
        "trusted": true
      },
      "execution_count": null,
      "outputs": []
    },
    {
      "cell_type": "markdown",
      "source": [
        "# Configuration"
      ],
      "metadata": {
        "id": "dc1NvOOoEcQU"
      }
    },
    {
      "cell_type": "code",
      "source": [
        "from config import get_config\n",
        "from pathlib import Path\n",
        "import os\n",
        "\n",
        "storage_dir = '/kaggle/working/storage'\n",
        "Path(storage_dir).mkdir(parents=True, exist_ok=True)\n",
        "\n",
        "config = get_config()\n",
        "config['checkpoints_dir'] = f'{storage_dir}/checkpoints'\n",
        "config['experiment_name'] = f'{storage_dir}/runs/model'\n",
        "config['batch_size'] = 32\n",
        "config['num_epochs'] = 10\n",
        "config['seq_length'] = 120\n",
        "config['num_validation_samples'] = 200 # -1 for evaluating the whole dataset\n",
        "config['num_test_samples'] = -1\n",
        "config['beam_size'] = 5\n",
        "# config['preload'] = None"
      ],
      "metadata": {
        "id": "QyiQPNTWDjUF",
        "execution": {
          "iopub.status.busy": "2024-02-22T04:22:28.913530Z",
          "iopub.execute_input": "2024-02-22T04:22:28.913991Z",
          "iopub.status.idle": "2024-02-22T04:22:28.925156Z",
          "shell.execute_reply.started": "2024-02-22T04:22:28.913955Z",
          "shell.execute_reply": "2024-02-22T04:22:28.924142Z"
        },
        "trusted": true
      },
      "execution_count": null,
      "outputs": []
    },
    {
      "cell_type": "markdown",
      "source": [
        "# Preprocessing"
      ],
      "metadata": {
        "id": "3C9-zN3BfHY9"
      }
    },
    {
      "cell_type": "code",
      "source": [
        "from preprocess import preprocess\n",
        "preprocess(config)"
      ],
      "metadata": {
        "id": "PTb2onZSfHY9",
        "execution": {
          "iopub.status.busy": "2024-02-22T04:22:37.224085Z",
          "iopub.execute_input": "2024-02-22T04:22:37.224570Z",
          "iopub.status.idle": "2024-02-22T04:25:31.506356Z",
          "shell.execute_reply.started": "2024-02-22T04:22:37.224534Z",
          "shell.execute_reply": "2024-02-22T04:25:31.505096Z"
        },
        "trusted": true
      },
      "execution_count": null,
      "outputs": []
    },
    {
      "cell_type": "markdown",
      "source": [
        "# Tensorboard"
      ],
      "metadata": {
        "id": "mAWq_d9P3I72"
      }
    },
    {
      "cell_type": "code",
      "source": [
        "%load_ext tensorboard"
      ],
      "metadata": {
        "id": "5_XOPFObfHY7",
        "execution": {
          "iopub.status.busy": "2024-02-22T04:26:06.813157Z",
          "iopub.execute_input": "2024-02-22T04:26:06.813649Z",
          "iopub.status.idle": "2024-02-22T04:26:06.837334Z",
          "shell.execute_reply.started": "2024-02-22T04:26:06.813613Z",
          "shell.execute_reply": "2024-02-22T04:26:06.836146Z"
        },
        "trusted": true
      },
      "execution_count": null,
      "outputs": []
    },
    {
      "cell_type": "code",
      "source": [
        "! ! command -v ngrok &>/dev/null && \\\n",
        "        wget https://bin.equinox.io/c/bNyj1mQVY4c/ngrok-v3-stable-linux-amd64.tgz && \\\n",
        "        tar -xvzf ngrok-v3-stable-linux-amd64.tgz -C /usr/local/bin\n",
        "\n",
        "!ngrok authtoken <YOUR_NGROK_AUTH_TOKEN>\n",
        "\n",
        "import os\n",
        "import multiprocessing\n",
        "pool = multiprocessing.Pool(processes = 10)\n",
        "results_of_processes = [pool.apply_async(os.system, args=(cmd,))\n",
        "                        for cmd in [\n",
        "                            f'tensorboard --logdir {config[\"experiment_name\"]} --host 0.0.0.0 --port 6006 &',\n",
        "                            \"/usr/local/bin/ngrok http 6006 &\"\n",
        "                        ]]"
      ],
      "metadata": {
        "id": "cBDr1gznfHY8",
        "execution": {
          "iopub.status.busy": "2024-02-22T04:27:20.409098Z",
          "iopub.execute_input": "2024-02-22T04:27:20.409738Z",
          "iopub.status.idle": "2024-02-22T04:27:22.980756Z",
          "shell.execute_reply.started": "2024-02-22T04:27:20.409684Z",
          "shell.execute_reply": "2024-02-22T04:27:22.976036Z"
        },
        "trusted": true
      },
      "execution_count": null,
      "outputs": []
    },
    {
      "cell_type": "code",
      "source": [
        "!curl -s http://localhost:4040/api/tunnels | python3 -c \\\n",
        "    \"import sys, json; print('Tensorboard running at:', json.load(sys.stdin)['tunnels'][0]['public_url'])\""
      ],
      "metadata": {
        "id": "Ev29Zl_efHY8",
        "execution": {
          "iopub.status.busy": "2024-02-22T04:27:34.895846Z",
          "iopub.execute_input": "2024-02-22T04:27:34.896393Z",
          "iopub.status.idle": "2024-02-22T04:27:36.195715Z",
          "shell.execute_reply.started": "2024-02-22T04:27:34.896345Z",
          "shell.execute_reply": "2024-02-22T04:27:36.193720Z"
        },
        "trusted": true
      },
      "execution_count": null,
      "outputs": []
    },
    {
      "cell_type": "markdown",
      "source": [
        "# Training"
      ],
      "metadata": {
        "id": "Eby5D4h2fHY9"
      }
    },
    {
      "cell_type": "code",
      "source": [
        "from train_model import train_model\n",
        "train_model(config)"
      ],
      "metadata": {
        "id": "5wszVJugfHY9",
        "execution": {
          "iopub.status.busy": "2024-02-22T04:28:07.568436Z",
          "iopub.execute_input": "2024-02-22T04:28:07.568925Z",
          "iopub.status.idle": "2024-02-22T04:30:12.663915Z",
          "shell.execute_reply.started": "2024-02-22T04:28:07.568891Z",
          "shell.execute_reply": "2024-02-22T04:30:12.661289Z"
        },
        "trusted": true
      },
      "execution_count": null,
      "outputs": []
    },
    {
      "cell_type": "markdown",
      "source": [
        "# Testing"
      ],
      "metadata": {
        "id": "JF5ffv2wfHY9"
      }
    },
    {
      "cell_type": "code",
      "source": [
        "from test_model import test_model\n",
        "test_model(config)"
      ],
      "metadata": {
        "id": "Z-QSNa_OfHY-",
        "trusted": true
      },
      "execution_count": null,
      "outputs": []
    }
  ]
}